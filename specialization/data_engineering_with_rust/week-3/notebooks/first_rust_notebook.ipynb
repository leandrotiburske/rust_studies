{
 "cells": [
  {
   "cell_type": "markdown",
   "id": "3075cec9-c022-4220-abe1-ba9dc35044dc",
   "metadata": {},
   "source": [
    "# Create my first Rust Jupyter Notebook"
   ]
  },
  {
   "cell_type": "markdown",
   "id": "189b3bcc",
   "metadata": {},
   "source": [
    "### Print `Hello world!` on-screen"
   ]
  },
  {
   "cell_type": "code",
   "execution_count": 2,
   "id": "48947a47-db69-429d-9413-0598231553d0",
   "metadata": {
    "vscode": {
     "languageId": "rust"
    }
   },
   "outputs": [
    {
     "name": "stdout",
     "output_type": "stream",
     "text": [
      "Hello world!\n"
     ]
    }
   ],
   "source": [
    "println!(\"Hello world!\");"
   ]
  }
 ],
 "metadata": {
  "kernelspec": {
   "display_name": "Rust",
   "language": "rust",
   "name": "rust"
  },
  "language_info": {
   "codemirror_mode": "rust",
   "file_extension": ".rs",
   "mimetype": "text/rust",
   "name": "Rust",
   "pygment_lexer": "rust",
   "version": ""
  }
 },
 "nbformat": 4,
 "nbformat_minor": 5
}
